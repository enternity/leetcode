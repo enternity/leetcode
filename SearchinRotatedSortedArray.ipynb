{
 "cells": [
  {
   "cell_type": "markdown",
   "metadata": {},
   "source": [
    "[link](https://leetcode.com/problems/search-in-rotated-sorted-array/)"
   ]
  },
  {
   "cell_type": "code",
   "execution_count": 2,
   "metadata": {},
   "outputs": [],
   "source": [
    "class Solution:\n",
    "    def search(self, nums, target):\n",
    "        if len(nums) == 0:\n",
    "            return -1\n",
    "        low = 0\n",
    "        high = len(nums) - 1\n",
    "        while(low <= high):\n",
    "            mid = int(low + (high - low) / 2)\n",
    "            first = nums[0]\n",
    "            value = nums[mid]\n",
    "            if value == target:\n",
    "                return mid\n",
    "            am_big = value >= first\n",
    "            target_big = target >= first\n",
    "            if am_big == target_big:\n",
    "                if value < target:\n",
    "                    low = mid + 1\n",
    "                else:\n",
    "                    high = mid - 1\n",
    "            else:\n",
    "                if am_big is True:\n",
    "                    low = mid + 1\n",
    "                else:\n",
    "                    high = mid -1 \n",
    "                    \n",
    "        return -1\n",
    "                "
   ]
  },
  {
   "cell_type": "code",
   "execution_count": 6,
   "metadata": {},
   "outputs": [
    {
     "name": "stdout",
     "output_type": "stream",
     "text": [
      "9\n"
     ]
    }
   ],
   "source": [
    "a = Solution()\n",
    "print(a.search([6,7,8,9,10,1,2,3,4,5],5))"
   ]
  },
  {
   "cell_type": "code",
   "execution_count": null,
   "metadata": {},
   "outputs": [],
   "source": []
  }
 ],
 "metadata": {
  "kernelspec": {
   "display_name": "Python 3",
   "language": "python",
   "name": "python3"
  },
  "language_info": {
   "codemirror_mode": {
    "name": "ipython",
    "version": 3
   },
   "file_extension": ".py",
   "mimetype": "text/x-python",
   "name": "python",
   "nbconvert_exporter": "python",
   "pygments_lexer": "ipython3",
   "version": "3.8.2"
  }
 },
 "nbformat": 4,
 "nbformat_minor": 4
}
