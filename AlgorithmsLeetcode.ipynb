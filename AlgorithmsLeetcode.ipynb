{
 "cells": [
  {
   "cell_type": "markdown",
   "metadata": {},
   "source": [
    "# Các thuật toán hay ho trên leetcode\n"
   ]
  },
  {
   "cell_type": "markdown",
   "metadata": {},
   "source": [
    "## 1 Brute Force algorithm: tên dân gian là thuật toán trâu bof =))\n",
    " Example : [leetcode](https://leetcode.com/problems/longest-substring-without-repeating-characters/solution/)\n",
    "1. Brute Force:\n",
    " - Suppose we have a function boolean allUnique(String substring) which will return true if the characters in the substring are all unique, otherwise false. We can iterate through all the possible substrings of the given string s and call the function allUnique. If it turns out to be true, then we update our answer of the maximum length of substring without duplicate characters\n",
    "2. Now let's fill the missing parts:\n",
    " - To enumerate all substrings of a given string, we enumerate the start and end indices of them. Suppose the start and end indices are ii and jj, respectively. Then we have $$0 \\leq i \\lt j \\leq n0≤i<j≤n$$ (here end index jj is exclusive by convention). Thus, using two nested loops with ii from 0 to n - 1n−1 and jj from i+1i+1 to nn, we can enumerate all the substrings of s.\n",
    "\n",
    " - To check if one string has duplicate characters, we can use a set. We iterate through all the characters in the string and put them into the set one by one. Before putting one character, we check if the set already contains it. If so, we return false. After the loop, we return true.\n",
    " 3. Complexity: $O(n^3)$"
   ]
  },
  {
   "cell_type": "markdown",
   "metadata": {},
   "source": [
    "## 2 Sliding Window: Cầu tuột\n",
    " - Nếu như thuật toán ở trên cho thấy vẻ đẹp của sức mạnh và thời gian. Thì vì chúng ta không như người ta nên chơi ăn gian 1 xíu, cũng không đúng nên gọi là chơi thông minh 1 xíu.\n",
    " - Ở thuật toán trên, chúng ta check substring để xem có kí tự nào trùng ko. Tuy nhiên cái này không cần thiết cho lắm. Chúng ta chỉ cần check nếu thằng đang xét có trong substring ở trong đó hay chưa.\n",
    " - Còn gì tuyệt vời hơn trong trường hợp này dùng hashmap-uh. Nếu chưa coi video này bạn đã lãng phí 1 thứ hay vcl rồi =)) Link: [ở đây](https://youtu.be/pKO9UjSeLew) . Lúc này độ phức tạp là $O(1)$. Tất nhiên là vì hashmap-uh nên tốn không gian hơn rồi. Đại khái bây giờ nên làm là duyệt tuần tự cái mảng. Nếu mà gặp vị trí duplicate, thì tính max_substring bây giờ là baao nhiêu. \n",
    " - **Pseduo Code**:  \n",
    "```sh\n",
    "  hash_string = set()\n",
    "  ans = i = j = 0\n",
    "  while(i < len(s) and j < len(s)):\n",
    "      if s[j] not in hash_string:\n",
    "          hash_string.add(s[i])\n",
    "          ans = max(ans, j - i)\n",
    "          j += 1\n",
    "      else:\n",
    "          hash_string.discard(s[i])\n",
    "          i += 1\n",
    "  retrun ans\n",
    " ```\n",
    " - Time complexity: $O(2n)$ vì nếu gặp duplicate tăng i và duyệt lại.\n",
    " - Space coplexity: $O(min(m,n))$. Cần $O(k)$ không gian đề chơi cầu truowtj. Với $k$ là size của hashmap-uh, $n$ là độ dài string $m$ là số lượng alphabet"
   ]
  },
  {
   "cell_type": "markdown",
   "metadata": {},
   "source": [
    "## 3. Cầu tuột optimize: \n",
    "- Thực tế là khi mình cũng tèn tèn duyệt mảng, khi gặp 1 phần tử duplicate, thì mình chỉ cần việc lấy max_length_substring. Xong rồi duyệt từ vị trí đó đi cộng thêm 1 không cần duyệt lại chi.\n",
    "- Code cũng na ná ở trên, nhưng nếu gặp duplicate thì gán ```i = j + 1``` là đẹp như Phương Ly liền :3."
   ]
  },
  {
   "cell_type": "markdown",
   "metadata": {},
   "source": [
    "## 4. Duyệt cây:\n",
    " - Đơn giản là cho nó vào 1 stack, xong rồi mình cứ pop lần lượt ra."
   ]
  },
  {
   "cell_type": "code",
   "execution_count": null,
   "metadata": {},
   "outputs": [],
   "source": [
    "# Definition for a binary tree node.\n",
    "class TreeNode:\n",
    "    def __init__(self, x):\n",
    "        self.val = x\n",
    "        self.left = None\n",
    "        self.right = None\n",
    "\n",
    "class Solution:\n",
    "\n",
    "\tdef preorderTraversal(self, root: TreeNode) -> List[int]:\n",
    "\n",
    "\t\tstack = [root]\n",
    "\t\tres = []\n",
    "\t\twhile stack:\n",
    "\t\t\tnode = stack.pop()\n",
    "\t\t\tif node is None: continue\n",
    "\t\t\tres.append(node.val)\n",
    "\t\t\tif node.right:\n",
    "\t\t\t\tstack.append(node.right)\n",
    "\t\t\tif node.left:\n",
    "\t\t\t\tstack.append(node.left)\n",
    "\t\treturn res"
   ]
  },
  {
   "cell_type": "markdown",
   "metadata": {},
   "source": [
    "\n",
    "\n"
   ]
  }
 ],
 "metadata": {
  "kernelspec": {
   "display_name": "Python 3",
   "language": "python",
   "name": "python3"
  },
  "language_info": {
   "codemirror_mode": {
    "name": "ipython",
    "version": 3
   },
   "file_extension": ".py",
   "mimetype": "text/x-python",
   "name": "python",
   "nbconvert_exporter": "python",
   "pygments_lexer": "ipython3",
   "version": "3.8.2"
  }
 },
 "nbformat": 4,
 "nbformat_minor": 4
}
