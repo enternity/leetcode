{
 "cells": [
  {
   "cell_type": "markdown",
   "metadata": {},
   "source": [
    "# Kadane's Algorithm :\n",
    "### Link problem on leet code : [here](https://leetcode.com/problems/maximum-product-subarray/)\n",
    "#### Explain Kadane's Algorithm : [here](https://medium.com/@rsinghal757/kadanes-algorithm-dynamic-programming-how-and-why-does-it-work-3fd8849ed73d)"
   ]
  },
  {
   "cell_type": "markdown",
   "metadata": {},
   "source": [
    "> Tư tưởng cũng tương tự với Kadane's algorithm, điểm khác biệt ở đây là. Mình chỉ cần tracking local_max. Vì trạng thái của global_max == local_max. Chúng ta cần duyệt từ trái sang phải, và từ phải sang trái. Lí do vì Nếu chỉ duyệt môt bên sẽ thay đổi trạng thái số sau. Vd [1,-3,2] Nếu chỉ duyệt từ trái sang phải. Thì lúc duyệt tới 2 (từ trái qua phải) thì giá trị là -6, Không keeptrack đúng. Đó là lí do cần duyệt 2 bên để đảm bảo tính đúng đắn của trạng thái hiện tại\n",
    ">"
   ]
  },
  {
   "cell_type": "code",
   "execution_count": null,
   "metadata": {},
   "outputs": [],
   "source": [
    "class Solution:\n",
    "    def maxProduct(self, nums: List[int]) -> int:\n",
    "        if not nums: return\n",
    "        left, right, record = 0, 0,-float('inf')\n",
    "        for i in range(len(nums)):\n",
    "            left = (left or 1) * nums[i]\n",
    "            right = (right or 1) * nums[-i-1]\n",
    "            record = max(record, left, right)\n",
    "        return record"
   ]
  },
  {
   "cell_type": "code",
   "execution_count": null,
   "metadata": {},
   "outputs": [],
   "source": []
  }
 ],
 "metadata": {
  "kernelspec": {
   "display_name": "Python 3",
   "language": "python",
   "name": "python3"
  },
  "language_info": {
   "codemirror_mode": {
    "name": "ipython",
    "version": 3
   },
   "file_extension": ".py",
   "mimetype": "text/x-python",
   "name": "python",
   "nbconvert_exporter": "python",
   "pygments_lexer": "ipython3",
   "version": "3.8.2"
  }
 },
 "nbformat": 4,
 "nbformat_minor": 4
}
