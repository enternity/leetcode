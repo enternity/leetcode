{
 "cells": [
  {
   "cell_type": "markdown",
   "metadata": {},
   "source": [
    "# Thuật toán sinh từ một số cho trước\n",
    "```\n",
    "Cho 1 số n và sinh ra tất cả các tập hợp con từ số  đó : \n",
    "vd : n = 3\n",
    "output: [[1,1,1], [1,1,2], [1,1,3], ... , [3,3,3]]\n",
    "```"
   ]
  },
  {
   "cell_type": "code",
   "execution_count": 8,
   "metadata": {},
   "outputs": [],
   "source": [
    "def solution(n):\n",
    "    \n",
    "    def backtrack(generate, n):\n",
    "        if len(generate) == n:\n",
    "            output.append(generate)\n",
    "        else:\n",
    "            for i in range(1, n + 1):\n",
    "                backtrack(generate + str(i), n)\n",
    "    output = []\n",
    "    backtrack('', n)\n",
    "    return output"
   ]
  },
  {
   "cell_type": "code",
   "execution_count": 9,
   "metadata": {},
   "outputs": [],
   "source": [
    "a = solution(3)"
   ]
  },
  {
   "cell_type": "code",
   "execution_count": 10,
   "metadata": {},
   "outputs": [
    {
     "data": {
      "text/plain": [
       "['111',\n",
       " '112',\n",
       " '113',\n",
       " '121',\n",
       " '122',\n",
       " '123',\n",
       " '131',\n",
       " '132',\n",
       " '133',\n",
       " '211',\n",
       " '212',\n",
       " '213',\n",
       " '221',\n",
       " '222',\n",
       " '223',\n",
       " '231',\n",
       " '232',\n",
       " '233',\n",
       " '311',\n",
       " '312',\n",
       " '313',\n",
       " '321',\n",
       " '322',\n",
       " '323',\n",
       " '331',\n",
       " '332',\n",
       " '333']"
      ]
     },
     "execution_count": 10,
     "metadata": {},
     "output_type": "execute_result"
    }
   ],
   "source": [
    "a"
   ]
  },
  {
   "cell_type": "code",
   "execution_count": null,
   "metadata": {},
   "outputs": [],
   "source": []
  }
 ],
 "metadata": {
  "kernelspec": {
   "display_name": "Python 3",
   "language": "python",
   "name": "python3"
  },
  "language_info": {
   "codemirror_mode": {
    "name": "ipython",
    "version": 3
   },
   "file_extension": ".py",
   "mimetype": "text/x-python",
   "name": "python",
   "nbconvert_exporter": "python",
   "pygments_lexer": "ipython3",
   "version": "3.8.2"
  }
 },
 "nbformat": 4,
 "nbformat_minor": 4
}
